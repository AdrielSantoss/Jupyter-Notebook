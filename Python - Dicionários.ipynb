{
 "cells": [
  {
   "cell_type": "code",
   "execution_count": 1,
   "id": "933c836d",
   "metadata": {},
   "outputs": [],
   "source": [
    "dict1 = {'chave1': 'valor1', \n",
    "         'chave2': 'valor2'}"
   ]
  },
  {
   "cell_type": "code",
   "execution_count": 2,
   "id": "c2e0d05c",
   "metadata": {},
   "outputs": [
    {
     "data": {
      "text/plain": [
       "{'chave1': 'valor1', 'chave2': 'valor2'}"
      ]
     },
     "execution_count": 2,
     "metadata": {},
     "output_type": "execute_result"
    }
   ],
   "source": [
    "dict1"
   ]
  },
  {
   "cell_type": "code",
   "execution_count": 4,
   "id": "69796702",
   "metadata": {},
   "outputs": [
    {
     "data": {
      "text/plain": [
       "'valor1'"
      ]
     },
     "execution_count": 4,
     "metadata": {},
     "output_type": "execute_result"
    }
   ],
   "source": [
    "dict1['chave1']"
   ]
  },
  {
   "cell_type": "code",
   "execution_count": 6,
   "id": "8d226f65",
   "metadata": {},
   "outputs": [],
   "source": [
    "dict2 = {'chave1': 12, 'chave2': 12.3}"
   ]
  },
  {
   "cell_type": "code",
   "execution_count": 7,
   "id": "ab9ca2cd",
   "metadata": {},
   "outputs": [
    {
     "data": {
      "text/plain": [
       "{'chave1': 12, 'chave2': 12.3}"
      ]
     },
     "execution_count": 7,
     "metadata": {},
     "output_type": "execute_result"
    }
   ],
   "source": [
    "dict2"
   ]
  },
  {
   "cell_type": "code",
   "execution_count": 8,
   "id": "c175fc49",
   "metadata": {},
   "outputs": [],
   "source": [
    "dict_with_function = dict(a = 'abc', b = 123)"
   ]
  },
  {
   "cell_type": "code",
   "execution_count": 10,
   "id": "e3fffe4a",
   "metadata": {},
   "outputs": [
    {
     "data": {
      "text/plain": [
       "{'a': 'abc', 'b': 123}"
      ]
     },
     "execution_count": 10,
     "metadata": {},
     "output_type": "execute_result"
    }
   ],
   "source": [
    "dict_with_function"
   ]
  },
  {
   "cell_type": "code",
   "execution_count": 11,
   "id": "4ff1c957",
   "metadata": {},
   "outputs": [],
   "source": [
    "dict_with_tuples = dict([('a', 1), ('b', 2), ('c' , 3)])"
   ]
  },
  {
   "cell_type": "code",
   "execution_count": 12,
   "id": "6c5ff5f9",
   "metadata": {},
   "outputs": [
    {
     "data": {
      "text/plain": [
       "{'a': 1, 'b': 2, 'c': 3}"
      ]
     },
     "execution_count": 12,
     "metadata": {},
     "output_type": "execute_result"
    }
   ],
   "source": [
    "dict_with_tuples"
   ]
  },
  {
   "cell_type": "code",
   "execution_count": 21,
   "id": "8272e397",
   "metadata": {},
   "outputs": [],
   "source": [
    "dict_with_zip = dict(zip(['a', 'b', 'c'], ['value1', 'value2', 'value3']));"
   ]
  },
  {
   "cell_type": "code",
   "execution_count": 22,
   "id": "cc2ec8ac",
   "metadata": {},
   "outputs": [
    {
     "data": {
      "text/plain": [
       "{'a': 'value1', 'b': 'value2', 'c': 'value3'}"
      ]
     },
     "execution_count": 22,
     "metadata": {},
     "output_type": "execute_result"
    }
   ],
   "source": [
    "dict_with_zip"
   ]
  },
  {
   "cell_type": "code",
   "execution_count": 23,
   "id": "6337b28f",
   "metadata": {},
   "outputs": [
    {
     "data": {
      "text/plain": [
       "{'chave1': 'valor1', 'chave2': 'valor2'}"
      ]
     },
     "execution_count": 23,
     "metadata": {},
     "output_type": "execute_result"
    }
   ],
   "source": [
    "dict1"
   ]
  },
  {
   "cell_type": "code",
   "execution_count": 24,
   "id": "2744f901",
   "metadata": {},
   "outputs": [
    {
     "data": {
      "text/plain": [
       "'valor1'"
      ]
     },
     "execution_count": 24,
     "metadata": {},
     "output_type": "execute_result"
    }
   ],
   "source": [
    "dict1['chave1']"
   ]
  },
  {
   "cell_type": "code",
   "execution_count": 25,
   "id": "dfb2a2c4",
   "metadata": {},
   "outputs": [
    {
     "data": {
      "text/plain": [
       "'valor1'"
      ]
     },
     "execution_count": 25,
     "metadata": {},
     "output_type": "execute_result"
    }
   ],
   "source": [
    "dict1.get('chave1')"
   ]
  },
  {
   "cell_type": "code",
   "execution_count": 26,
   "id": "ae665491",
   "metadata": {},
   "outputs": [
    {
     "data": {
      "text/plain": [
       "'valor1'"
      ]
     },
     "execution_count": 26,
     "metadata": {},
     "output_type": "execute_result"
    }
   ],
   "source": [
    "dict1.get('chave1', 'Chave não encontrada')"
   ]
  },
  {
   "cell_type": "code",
   "execution_count": 27,
   "id": "67ef49ec",
   "metadata": {},
   "outputs": [
    {
     "data": {
      "text/plain": [
       "'Chave não encontrada'"
      ]
     },
     "execution_count": 27,
     "metadata": {},
     "output_type": "execute_result"
    }
   ],
   "source": [
    "dict1.get('chave12', 'Chave não encontrada')"
   ]
  },
  {
   "cell_type": "code",
   "execution_count": 29,
   "id": "f6a4427a",
   "metadata": {},
   "outputs": [
    {
     "data": {
      "text/plain": [
       "['chave1', 'chave2']"
      ]
     },
     "execution_count": 29,
     "metadata": {},
     "output_type": "execute_result"
    }
   ],
   "source": [
    "list(dict1)"
   ]
  },
  {
   "cell_type": "code",
   "execution_count": 30,
   "id": "c45ad2e0",
   "metadata": {},
   "outputs": [
    {
     "data": {
      "text/plain": [
       "'valor1'"
      ]
     },
     "execution_count": 30,
     "metadata": {},
     "output_type": "execute_result"
    }
   ],
   "source": [
    "dict1.get(list(dict1)[0])"
   ]
  },
  {
   "cell_type": "code",
   "execution_count": 33,
   "id": "981e4656",
   "metadata": {},
   "outputs": [
    {
     "data": {
      "text/plain": [
       "<function dict.values>"
      ]
     },
     "execution_count": 33,
     "metadata": {},
     "output_type": "execute_result"
    }
   ],
   "source": [
    "dict1.values"
   ]
  },
  {
   "cell_type": "code",
   "execution_count": 34,
   "id": "123adf80",
   "metadata": {},
   "outputs": [
    {
     "data": {
      "text/plain": [
       "dict_values(['valor1', 'valor2'])"
      ]
     },
     "execution_count": 34,
     "metadata": {},
     "output_type": "execute_result"
    }
   ],
   "source": [
    "dict1.values()"
   ]
  },
  {
   "cell_type": "code",
   "execution_count": 35,
   "id": "6b2d7854",
   "metadata": {},
   "outputs": [
    {
     "data": {
      "text/plain": [
       "dict_keys(['chave1', 'chave2'])"
      ]
     },
     "execution_count": 35,
     "metadata": {},
     "output_type": "execute_result"
    }
   ],
   "source": [
    "dict1.keys()"
   ]
  },
  {
   "cell_type": "code",
   "execution_count": 37,
   "id": "5f875e5c",
   "metadata": {},
   "outputs": [
    {
     "name": "stdout",
     "output_type": "stream",
     "text": [
      "chave1\n",
      "chave2\n"
     ]
    }
   ],
   "source": [
    "for chave in dict1.keys():\n",
    "    print(chave)"
   ]
  },
  {
   "cell_type": "code",
   "execution_count": 38,
   "id": "5f5fff25",
   "metadata": {},
   "outputs": [
    {
     "name": "stdout",
     "output_type": "stream",
     "text": [
      "('chave1', 'valor1')\n",
      "('chave2', 'valor2')\n"
     ]
    }
   ],
   "source": [
    "for chave in dict1.items():\n",
    "    print(chave)"
   ]
  },
  {
   "cell_type": "code",
   "execution_count": 40,
   "id": "5e5304df",
   "metadata": {},
   "outputs": [
    {
     "name": "stdout",
     "output_type": "stream",
     "text": [
      "<class 'tuple'>\n",
      "<class 'tuple'>\n"
     ]
    }
   ],
   "source": [
    "for chave in dict1.items():\n",
    "    print(type(chave))"
   ]
  },
  {
   "cell_type": "code",
   "execution_count": null,
   "id": "d7ffbd52",
   "metadata": {},
   "outputs": [],
   "source": []
  }
 ],
 "metadata": {
  "kernelspec": {
   "display_name": "Python 3 (ipykernel)",
   "language": "python",
   "name": "python3"
  },
  "language_info": {
   "codemirror_mode": {
    "name": "ipython",
    "version": 3
   },
   "file_extension": ".py",
   "mimetype": "text/x-python",
   "name": "python",
   "nbconvert_exporter": "python",
   "pygments_lexer": "ipython3",
   "version": "3.11.0"
  }
 },
 "nbformat": 4,
 "nbformat_minor": 5
}
